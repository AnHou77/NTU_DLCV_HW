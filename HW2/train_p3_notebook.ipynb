{
 "cells": [
  {
   "cell_type": "code",
   "execution_count": null,
   "metadata": {},
   "outputs": [],
   "source": [
    "import torch\n",
    "import torch.nn as nn\n",
    "import torch.optim as optim\n",
    "import torch.nn.functional as F\n",
    "import torchvision\n",
    "import torchvision.transforms as transforms\n",
    "from torch.utils.data import Dataset, DataLoader, Subset\n",
    "\n",
    "import glob\n",
    "import os\n",
    "import numpy as np\n",
    "import pandas as pd\n",
    "import random\n",
    "from PIL import Image\n",
    "import matplotlib.pyplot as plt\n",
    "import torchvision.utils as vutils\n",
    "from tqdm import tqdm\n",
    "\n",
    "import train_p3\n",
    "from torchsummary import summary\n",
    "from sklearn.manifold import TSNE\n",
    "import matplotlib.pyplot as plt\n",
    "import matplotlib.cm as cm"
   ]
  },
  {
   "cell_type": "code",
   "execution_count": null,
   "metadata": {},
   "outputs": [],
   "source": [
    "src_testset = train_p3.p3(root='hw2_data/digits/usps/test',label_path='hw2_data/digits/usps/test.csv',img_size=64)\n",
    "target_testset = train_p3.p3(root='hw2_data/digits/svhn/test',label_path='hw2_data/digits/svhn/test.csv',img_size=64)\n",
    "min_size = 1000\n",
    "data_size = range(min_size)\n",
    "\n",
    "src_testset = Subset(src_testset, data_size)\n",
    "target_trainset = Subset(target_testset,data_size)\n",
    "\n",
    "dataset = src_testset + target_testset\n",
    "\n",
    "dataset_loader = DataLoader(dataset, batch_size=min_size*2, shuffle=False, num_workers=4)\n",
    "\n",
    "device = torch.device(\"cuda:0\" if (torch.cuda.is_available()) else \"cpu\")\n",
    "model = train_p3.DANN_64x()\n",
    "model_val = model.to(device)\n",
    "model_val.load_state_dict(torch.load('./save_models/dann_target_svhn_improved.pth'))\n",
    "model_val.eval()\n",
    "\n",
    "print()"
   ]
  },
  {
   "cell_type": "code",
   "execution_count": null,
   "metadata": {},
   "outputs": [],
   "source": [
    "dataiter = iter(dataset_loader)\n",
    "images,labels= dataiter.next()\n",
    "images = images.to(device)\n",
    "\n",
    "FEAT = model_val(images).view(min_size*2,2048)\n",
    "print(FEAT.shape)"
   ]
  },
  {
   "cell_type": "code",
   "execution_count": null,
   "metadata": {},
   "outputs": [],
   "source": [
    "import seaborn as sns\n",
    "sns.set(rc={'figure.figsize':(11.7,8.27)})\n",
    "palette = sns.color_palette(\"bright\", 10)\n",
    "tsne = TSNE().fit_transform(FEAT.cpu().detach().numpy())\n",
    "\n",
    "tx = tsne[:, 0]\n",
    "ty = tsne[:, 1]\n",
    "classes = np.arange(10)\n",
    "\n",
    "sns.scatterplot(tx, ty, legend='full', hue=labels, palette=palette)"
   ]
  },
  {
   "cell_type": "code",
   "execution_count": null,
   "metadata": {},
   "outputs": [],
   "source": [
    "source_arr = np.zeros(min_size,dtype=int)\n",
    "target_arr = np.ones(min_size,dtype=int)\n",
    "print(source_arr.shape,target_arr.shape)\n",
    "arr = np.concatenate((source_arr,target_arr),axis=None)\n",
    "print(arr.shape)\n",
    "palette = sns.color_palette(\"bright\", 2)\n",
    "sns.scatterplot(tx, ty, legend='full', hue=arr, palette=palette)"
   ]
  }
 ],
 "metadata": {
  "interpreter": {
   "hash": "df0893f56f349688326838aaeea0de204df53a132722cbd565e54b24a8fec5f6"
  },
  "kernelspec": {
   "display_name": "Python 3.8.12 64-bit",
   "language": "python",
   "name": "python3"
  },
  "language_info": {
   "codemirror_mode": {
    "name": "ipython",
    "version": 3
   },
   "file_extension": ".py",
   "mimetype": "text/x-python",
   "name": "python",
   "nbconvert_exporter": "python",
   "pygments_lexer": "ipython3",
   "version": "3.8.8"
  },
  "orig_nbformat": 4
 },
 "nbformat": 4,
 "nbformat_minor": 2
}
